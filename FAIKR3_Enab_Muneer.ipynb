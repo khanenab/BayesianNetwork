{
  "nbformat": 4,
  "nbformat_minor": 0,
  "metadata": {
    "colab": {
      "name": "FAIKR3.ipynb",
      "provenance": [],
      "collapsed_sections": []
    },
    "kernelspec": {
      "name": "python3",
      "display_name": "Python 3"
    },
    "language_info": {
      "name": "python"
    },
    "widgets": {
      "application/vnd.jupyter.widget-state+json": {
        "b2f1c9358ef84c25bf97504e83516096": {
          "model_module": "@jupyter-widgets/controls",
          "model_name": "HBoxModel",
          "model_module_version": "1.5.0",
          "state": {
            "_dom_classes": [],
            "_model_module": "@jupyter-widgets/controls",
            "_model_module_version": "1.5.0",
            "_model_name": "HBoxModel",
            "_view_count": null,
            "_view_module": "@jupyter-widgets/controls",
            "_view_module_version": "1.5.0",
            "_view_name": "HBoxView",
            "box_style": "",
            "children": [
              "IPY_MODEL_0faf128d7d8f4bf8b76e9010f61087fb",
              "IPY_MODEL_74194f4d60464df584db5de5e7921f22",
              "IPY_MODEL_cf666ce6465a4ad99b24e79e80014f85"
            ],
            "layout": "IPY_MODEL_63f96fee5f094c97abb736e702b36603"
          }
        },
        "0faf128d7d8f4bf8b76e9010f61087fb": {
          "model_module": "@jupyter-widgets/controls",
          "model_name": "HTMLModel",
          "model_module_version": "1.5.0",
          "state": {
            "_dom_classes": [],
            "_model_module": "@jupyter-widgets/controls",
            "_model_module_version": "1.5.0",
            "_model_name": "HTMLModel",
            "_view_count": null,
            "_view_module": "@jupyter-widgets/controls",
            "_view_module_version": "1.5.0",
            "_view_name": "HTMLView",
            "description": "",
            "description_tooltip": null,
            "layout": "IPY_MODEL_9bf6a875c7344d4094dd1c69f5898da6",
            "placeholder": "​",
            "style": "IPY_MODEL_fd30539fde9d4f7288c23b1814c2d6be",
            "value": "100%"
          }
        },
        "74194f4d60464df584db5de5e7921f22": {
          "model_module": "@jupyter-widgets/controls",
          "model_name": "FloatProgressModel",
          "model_module_version": "1.5.0",
          "state": {
            "_dom_classes": [],
            "_model_module": "@jupyter-widgets/controls",
            "_model_module_version": "1.5.0",
            "_model_name": "FloatProgressModel",
            "_view_count": null,
            "_view_module": "@jupyter-widgets/controls",
            "_view_module_version": "1.5.0",
            "_view_name": "ProgressView",
            "bar_style": "success",
            "description": "",
            "description_tooltip": null,
            "layout": "IPY_MODEL_f99fe404484546a0900890e663f7bd74",
            "max": 2499,
            "min": 0,
            "orientation": "horizontal",
            "style": "IPY_MODEL_68eafdf970054f8c893ff8141fb159df",
            "value": 2499
          }
        },
        "cf666ce6465a4ad99b24e79e80014f85": {
          "model_module": "@jupyter-widgets/controls",
          "model_name": "HTMLModel",
          "model_module_version": "1.5.0",
          "state": {
            "_dom_classes": [],
            "_model_module": "@jupyter-widgets/controls",
            "_model_module_version": "1.5.0",
            "_model_name": "HTMLModel",
            "_view_count": null,
            "_view_module": "@jupyter-widgets/controls",
            "_view_module_version": "1.5.0",
            "_view_name": "HTMLView",
            "description": "",
            "description_tooltip": null,
            "layout": "IPY_MODEL_afd27cb878264b739b8bc893c393bba0",
            "placeholder": "​",
            "style": "IPY_MODEL_1b7ba1d2da0e46c8808c092987af787e",
            "value": " 2499/2499 [00:01&lt;00:00, 2585.13it/s]"
          }
        },
        "63f96fee5f094c97abb736e702b36603": {
          "model_module": "@jupyter-widgets/base",
          "model_name": "LayoutModel",
          "model_module_version": "1.2.0",
          "state": {
            "_model_module": "@jupyter-widgets/base",
            "_model_module_version": "1.2.0",
            "_model_name": "LayoutModel",
            "_view_count": null,
            "_view_module": "@jupyter-widgets/base",
            "_view_module_version": "1.2.0",
            "_view_name": "LayoutView",
            "align_content": null,
            "align_items": null,
            "align_self": null,
            "border": null,
            "bottom": null,
            "display": null,
            "flex": null,
            "flex_flow": null,
            "grid_area": null,
            "grid_auto_columns": null,
            "grid_auto_flow": null,
            "grid_auto_rows": null,
            "grid_column": null,
            "grid_gap": null,
            "grid_row": null,
            "grid_template_areas": null,
            "grid_template_columns": null,
            "grid_template_rows": null,
            "height": null,
            "justify_content": null,
            "justify_items": null,
            "left": null,
            "margin": null,
            "max_height": null,
            "max_width": null,
            "min_height": null,
            "min_width": null,
            "object_fit": null,
            "object_position": null,
            "order": null,
            "overflow": null,
            "overflow_x": null,
            "overflow_y": null,
            "padding": null,
            "right": null,
            "top": null,
            "visibility": null,
            "width": null
          }
        },
        "9bf6a875c7344d4094dd1c69f5898da6": {
          "model_module": "@jupyter-widgets/base",
          "model_name": "LayoutModel",
          "model_module_version": "1.2.0",
          "state": {
            "_model_module": "@jupyter-widgets/base",
            "_model_module_version": "1.2.0",
            "_model_name": "LayoutModel",
            "_view_count": null,
            "_view_module": "@jupyter-widgets/base",
            "_view_module_version": "1.2.0",
            "_view_name": "LayoutView",
            "align_content": null,
            "align_items": null,
            "align_self": null,
            "border": null,
            "bottom": null,
            "display": null,
            "flex": null,
            "flex_flow": null,
            "grid_area": null,
            "grid_auto_columns": null,
            "grid_auto_flow": null,
            "grid_auto_rows": null,
            "grid_column": null,
            "grid_gap": null,
            "grid_row": null,
            "grid_template_areas": null,
            "grid_template_columns": null,
            "grid_template_rows": null,
            "height": null,
            "justify_content": null,
            "justify_items": null,
            "left": null,
            "margin": null,
            "max_height": null,
            "max_width": null,
            "min_height": null,
            "min_width": null,
            "object_fit": null,
            "object_position": null,
            "order": null,
            "overflow": null,
            "overflow_x": null,
            "overflow_y": null,
            "padding": null,
            "right": null,
            "top": null,
            "visibility": null,
            "width": null
          }
        },
        "fd30539fde9d4f7288c23b1814c2d6be": {
          "model_module": "@jupyter-widgets/controls",
          "model_name": "DescriptionStyleModel",
          "model_module_version": "1.5.0",
          "state": {
            "_model_module": "@jupyter-widgets/controls",
            "_model_module_version": "1.5.0",
            "_model_name": "DescriptionStyleModel",
            "_view_count": null,
            "_view_module": "@jupyter-widgets/base",
            "_view_module_version": "1.2.0",
            "_view_name": "StyleView",
            "description_width": ""
          }
        },
        "f99fe404484546a0900890e663f7bd74": {
          "model_module": "@jupyter-widgets/base",
          "model_name": "LayoutModel",
          "model_module_version": "1.2.0",
          "state": {
            "_model_module": "@jupyter-widgets/base",
            "_model_module_version": "1.2.0",
            "_model_name": "LayoutModel",
            "_view_count": null,
            "_view_module": "@jupyter-widgets/base",
            "_view_module_version": "1.2.0",
            "_view_name": "LayoutView",
            "align_content": null,
            "align_items": null,
            "align_self": null,
            "border": null,
            "bottom": null,
            "display": null,
            "flex": null,
            "flex_flow": null,
            "grid_area": null,
            "grid_auto_columns": null,
            "grid_auto_flow": null,
            "grid_auto_rows": null,
            "grid_column": null,
            "grid_gap": null,
            "grid_row": null,
            "grid_template_areas": null,
            "grid_template_columns": null,
            "grid_template_rows": null,
            "height": null,
            "justify_content": null,
            "justify_items": null,
            "left": null,
            "margin": null,
            "max_height": null,
            "max_width": null,
            "min_height": null,
            "min_width": null,
            "object_fit": null,
            "object_position": null,
            "order": null,
            "overflow": null,
            "overflow_x": null,
            "overflow_y": null,
            "padding": null,
            "right": null,
            "top": null,
            "visibility": null,
            "width": null
          }
        },
        "68eafdf970054f8c893ff8141fb159df": {
          "model_module": "@jupyter-widgets/controls",
          "model_name": "ProgressStyleModel",
          "model_module_version": "1.5.0",
          "state": {
            "_model_module": "@jupyter-widgets/controls",
            "_model_module_version": "1.5.0",
            "_model_name": "ProgressStyleModel",
            "_view_count": null,
            "_view_module": "@jupyter-widgets/base",
            "_view_module_version": "1.2.0",
            "_view_name": "StyleView",
            "bar_color": null,
            "description_width": ""
          }
        },
        "afd27cb878264b739b8bc893c393bba0": {
          "model_module": "@jupyter-widgets/base",
          "model_name": "LayoutModel",
          "model_module_version": "1.2.0",
          "state": {
            "_model_module": "@jupyter-widgets/base",
            "_model_module_version": "1.2.0",
            "_model_name": "LayoutModel",
            "_view_count": null,
            "_view_module": "@jupyter-widgets/base",
            "_view_module_version": "1.2.0",
            "_view_name": "LayoutView",
            "align_content": null,
            "align_items": null,
            "align_self": null,
            "border": null,
            "bottom": null,
            "display": null,
            "flex": null,
            "flex_flow": null,
            "grid_area": null,
            "grid_auto_columns": null,
            "grid_auto_flow": null,
            "grid_auto_rows": null,
            "grid_column": null,
            "grid_gap": null,
            "grid_row": null,
            "grid_template_areas": null,
            "grid_template_columns": null,
            "grid_template_rows": null,
            "height": null,
            "justify_content": null,
            "justify_items": null,
            "left": null,
            "margin": null,
            "max_height": null,
            "max_width": null,
            "min_height": null,
            "min_width": null,
            "object_fit": null,
            "object_position": null,
            "order": null,
            "overflow": null,
            "overflow_x": null,
            "overflow_y": null,
            "padding": null,
            "right": null,
            "top": null,
            "visibility": null,
            "width": null
          }
        },
        "1b7ba1d2da0e46c8808c092987af787e": {
          "model_module": "@jupyter-widgets/controls",
          "model_name": "DescriptionStyleModel",
          "model_module_version": "1.5.0",
          "state": {
            "_model_module": "@jupyter-widgets/controls",
            "_model_module_version": "1.5.0",
            "_model_name": "DescriptionStyleModel",
            "_view_count": null,
            "_view_module": "@jupyter-widgets/base",
            "_view_module_version": "1.2.0",
            "_view_name": "StyleView",
            "description_width": ""
          }
        }
      }
    }
  },
  "cells": [
    {
      "cell_type": "markdown",
      "source": [
        "Name: Enab\n",
        "\n",
        "Last Name: Muneer\n",
        "\n",
        "Matricola: 0001057723"
      ],
      "metadata": {
        "id": "fby2OR2FaikV"
      }
    },
    {
      "cell_type": "markdown",
      "source": [
        "#Introduction:"
      ],
      "metadata": {
        "id": "Txn_vpwdVGKQ"
      }
    },
    {
      "cell_type": "markdown",
      "source": [
        "Dementia is a general term for the impaired ability to remember, think, or make decisions that interferes with doing everyday activities. Alzheimer's disease is the most common type of dementia. Though dementia mostly affects older adults, it is not a part of normal aging. Of those at least 65 years of age, there is an estimated 5.0 million adults with dementia in 2014 and projected to be nearly 14 million by 2060.\n",
        "\n",
        "Bayesian networks are a type of probabilistic graphical models that lie at the intersection between statistics and machine learning. They have been shown to be powerful tools to encode dependence relationships among the variables of a domain under uncertainty. The proposed work addresses the compelling problem of dementia with an application of a Bayesian Network for medical diagnosis and prediction which has its main advantage in its explainability and readability. In particular, some of the causes of dementia are take into consideration in the Network. The idea is taken from the paper \"Burge, J., Lane, T., Link, H., Qiu, S., and Clark, V. P. (2009). Discrete dynamic Bayesian network analysis of fMRI data. Hum. Brain Mapp. 30, 122–137. doi:10.1002/hbm.20490\". We have taken advantage of Bayesian networks and how they can be learned automatically from data by means of structure learning algorithms. Also, we see how these networks are used for reasoning by exact or approximate inference algorithms that propagate the given evidence through the graphical structure."
      ],
      "metadata": {
        "id": "UesHspnFoUTR"
      }
    },
    {
      "cell_type": "code",
      "source": [
        "!pip install pgmpy"
      ],
      "metadata": {
        "colab": {
          "base_uri": "https://localhost:8080/"
        },
        "id": "1og-BTcRNPia",
        "outputId": "c23b46aa-3934-4697-8345-c42ef2a47dc4"
      },
      "execution_count": 159,
      "outputs": [
        {
          "output_type": "stream",
          "name": "stdout",
          "text": [
            "Looking in indexes: https://pypi.org/simple, https://us-python.pkg.dev/colab-wheels/public/simple/\n",
            "Requirement already satisfied: pgmpy in /usr/local/lib/python3.7/dist-packages (0.1.19)\n",
            "Requirement already satisfied: pandas in /usr/local/lib/python3.7/dist-packages (from pgmpy) (1.3.5)\n",
            "Requirement already satisfied: pyparsing in /usr/local/lib/python3.7/dist-packages (from pgmpy) (3.0.9)\n",
            "Requirement already satisfied: numpy in /usr/local/lib/python3.7/dist-packages (from pgmpy) (1.21.6)\n",
            "Requirement already satisfied: networkx in /usr/local/lib/python3.7/dist-packages (from pgmpy) (2.6.3)\n",
            "Requirement already satisfied: joblib in /usr/local/lib/python3.7/dist-packages (from pgmpy) (1.1.0)\n",
            "Requirement already satisfied: tqdm in /usr/local/lib/python3.7/dist-packages (from pgmpy) (4.64.0)\n",
            "Requirement already satisfied: torch in /usr/local/lib/python3.7/dist-packages (from pgmpy) (1.11.0+cu113)\n",
            "Requirement already satisfied: scipy in /usr/local/lib/python3.7/dist-packages (from pgmpy) (1.4.1)\n",
            "Requirement already satisfied: statsmodels in /usr/local/lib/python3.7/dist-packages (from pgmpy) (0.10.2)\n",
            "Requirement already satisfied: scikit-learn in /usr/local/lib/python3.7/dist-packages (from pgmpy) (1.0.2)\n",
            "Requirement already satisfied: pytz>=2017.3 in /usr/local/lib/python3.7/dist-packages (from pandas->pgmpy) (2022.1)\n",
            "Requirement already satisfied: python-dateutil>=2.7.3 in /usr/local/lib/python3.7/dist-packages (from pandas->pgmpy) (2.8.2)\n",
            "Requirement already satisfied: six>=1.5 in /usr/local/lib/python3.7/dist-packages (from python-dateutil>=2.7.3->pandas->pgmpy) (1.15.0)\n",
            "Requirement already satisfied: threadpoolctl>=2.0.0 in /usr/local/lib/python3.7/dist-packages (from scikit-learn->pgmpy) (3.1.0)\n",
            "Requirement already satisfied: patsy>=0.4.0 in /usr/local/lib/python3.7/dist-packages (from statsmodels->pgmpy) (0.5.2)\n",
            "Requirement already satisfied: typing-extensions in /usr/local/lib/python3.7/dist-packages (from torch->pgmpy) (4.1.1)\n"
          ]
        }
      ]
    },
    {
      "cell_type": "markdown",
      "source": [
        "Importing Libraries"
      ],
      "metadata": {
        "id": "XnzsvMQYoRxd"
      }
    },
    {
      "cell_type": "code",
      "execution_count": 160,
      "metadata": {
        "id": "5uNZRTJzn5LG"
      },
      "outputs": [],
      "source": [
        "from pgmpy.models import BayesianNetwork\n",
        "from pgmpy.factors.discrete import TabularCPD\n",
        "from pgmpy.inference import VariableElimination\n",
        "import matplotlib.pyplot as plt\n",
        "import networkx as nx\n",
        "from pgmpy.sampling import GibbsSampling\n",
        "from pgmpy.sampling import BayesianModelSampling\n",
        "from pgmpy.factors.discrete import State\n",
        "from pgmpy.inference import ApproxInference\n",
        "import warnings\n",
        "warnings.filterwarnings(\"ignore\")"
      ]
    },
    {
      "cell_type": "code",
      "source": [
        "class Node():\n",
        "    def __init__(self, name, card, probabilities: list = None, state_names=None):\n",
        "        self.name = name\n",
        "        self.card = card\n",
        "        self.probabilities = probabilities or [[1/card] for _ in range(card)]\n",
        "        self.state_names = state_names\n",
        "    def __str__(self):\n",
        "        return self.name"
      ],
      "metadata": {
        "id": "zGXsAQXOeJDT"
      },
      "execution_count": 161,
      "outputs": []
    },
    {
      "cell_type": "markdown",
      "source": [
        "# Network"
      ],
      "metadata": {
        "id": "xLW4_ZZcyGv-"
      }
    },
    {
      "cell_type": "markdown",
      "source": [
        "Defining the network structure. The acronyms related to dataset attributes are the followings:\n",
        "\n",
        "Age: age\n",
        "\n",
        "Neuronal Atrophy: neuronalAtrophy\n",
        "\n",
        "Stroke: stroke\n",
        "\n",
        "Dementia: dementia \n",
        "\n",
        "Wheelchair: wheelchair"
      ],
      "metadata": {
        "id": "PcGJLwLIRSOH"
      }
    },
    {
      "cell_type": "code",
      "source": [
        "risk_of_dementia_model = BayesianNetwork(\n",
        "    [\n",
        "        (\"Age\", \"Neuronal Atrophy\"),\n",
        "        (\"Age\", \"Stroke\"),\n",
        "        (\"Neuronal Atrophy\", \"Dementia\"),\n",
        "        (\"Stroke\", \"Dementia\"),\n",
        "        (\"Stroke\", \"Wheelchair\")\n",
        "    ]\n",
        ")"
      ],
      "metadata": {
        "id": "s-WANhmBRNTo"
      },
      "execution_count": 162,
      "outputs": []
    },
    {
      "cell_type": "markdown",
      "source": [
        "Defining the parameters using CPT"
      ],
      "metadata": {
        "id": "C58euXvSSjTG"
      }
    },
    {
      "cell_type": "code",
      "source": [
        "age = \"Age\"\n",
        "neuronalAtrophy = \"Neuronal Atrophy\"\n",
        "stroke = \"Stroke\"\n",
        "dementia = \"Dementia\"\n",
        "wheelchair = \"Wheelchair\"\n",
        "\n",
        "data = [\n",
        "    (age, 2, [\n",
        "        [.70],\n",
        "        [.30],\n",
        "    ], ['ABOVE_65', 'BELOW_65']),\n",
        "    (neuronalAtrophy, 2, [\n",
        "         [.80, .95],\n",
        "         [0.20, .05],\n",
        "    ], ['YES', 'NO']),\n",
        "    (stroke, 2, [\n",
        "        [.85, .99],\n",
        "        [.15, .01 ],\n",
        "    ], ['YES', 'NO']),\n",
        "    (dementia, 2, [\n",
        "        [.95, .40, .45, .15],\n",
        "        [.05, .60, .55, .85],\n",
        "    ], ['YES', 'NO']),\n",
        "    (wheelchair, 2, [\n",
        "        [.70, .10],\n",
        "        [.30, .90],\n",
        "    ], ['YES', 'NO']),\n",
        "]\n",
        "NODES = {name: Node(name, card, probabilities, state_names) for (name, card, probabilities, state_names) in data}"
      ],
      "metadata": {
        "id": "2H_YsFc-Slhi"
      },
      "execution_count": 163,
      "outputs": []
    },
    {
      "cell_type": "markdown",
      "source": [
        "The Possiblle Values of the Variables are:"
      ],
      "metadata": {
        "id": "3y8HgA-MjCmk"
      }
    },
    {
      "cell_type": "code",
      "source": [
        "# Age\n",
        "ABOVE_65, BELOW_65 = range(2)\n",
        "\n",
        "#Neuronal Atrophy, Stroke, Dementia, Wheelchair\n",
        "YES, NO = range(2)"
      ],
      "metadata": {
        "id": "zYqdlWd9jSOr"
      },
      "execution_count": 164,
      "outputs": []
    },
    {
      "cell_type": "markdown",
      "source": [
        "The CPDs and associating the CPDs with the network structure."
      ],
      "metadata": {
        "id": "jXkgT0wdfJI2"
      }
    },
    {
      "cell_type": "code",
      "source": [
        "cpds = [\n",
        "    TabularCPD(\n",
        "            NODES[node].name,\n",
        "            NODES[node].card,\n",
        "            NODES[node].probabilities,\n",
        "            evidence=risk_of_dementia_model.get_parents(NODES[node].name),\n",
        "            evidence_card=[NODES[evidence].card for evidence in risk_of_dementia_model.get_parents(NODES[node].name)],\n",
        "            state_names={NODES[_].name: NODES[_].state_names for _ in [NODES[node].name] + risk_of_dementia_model.get_parents(NODES[node].name)}\n",
        "        )\n",
        "        for node in risk_of_dementia_model.nodes()\n",
        "]\n",
        "risk_of_dementia_model.add_cpds(*cpds)"
      ],
      "metadata": {
        "id": "DqZbBKjveXWo"
      },
      "execution_count": 165,
      "outputs": []
    },
    {
      "cell_type": "markdown",
      "source": [
        "checks for the model structure and the associated CPD and returns True if everything is correct otherwise throws an exception."
      ],
      "metadata": {
        "id": "7E2xCM0cgaF1"
      }
    },
    {
      "cell_type": "code",
      "source": [
        "if risk_of_dementia_model.check_model():\n",
        "    print(\"Everything is ok.\")"
      ],
      "metadata": {
        "id": "j3ViFe5MfLeB",
        "colab": {
          "base_uri": "https://localhost:8080/"
        },
        "outputId": "0e248567-aee5-4b2d-aab5-d8174bbbacf5"
      },
      "execution_count": 166,
      "outputs": [
        {
          "output_type": "stream",
          "name": "stdout",
          "text": [
            "Everything is ok.\n"
          ]
        }
      ]
    },
    {
      "cell_type": "code",
      "source": [
        "#check cpds\n",
        "for cpds in risk_of_dementia_model.get_cpds():\n",
        "    print(f'CPT of {cpds.variable} ==>')\n",
        "    print(cpds, '\\n')"
      ],
      "metadata": {
        "colab": {
          "base_uri": "https://localhost:8080/"
        },
        "id": "6JCRH94iOL3h",
        "outputId": "d9fc1cb8-4595-4689-9064-6894320b2bc3"
      },
      "execution_count": 167,
      "outputs": [
        {
          "output_type": "stream",
          "name": "stdout",
          "text": [
            "CPT of Age ==>\n",
            "+---------------+-----+\n",
            "| Age(ABOVE_65) | 0.7 |\n",
            "+---------------+-----+\n",
            "| Age(BELOW_65) | 0.3 |\n",
            "+---------------+-----+ \n",
            "\n",
            "CPT of Neuronal Atrophy ==>\n",
            "+-----------------------+---------------+---------------+\n",
            "| Age                   | Age(ABOVE_65) | Age(BELOW_65) |\n",
            "+-----------------------+---------------+---------------+\n",
            "| Neuronal Atrophy(YES) | 0.8           | 0.95          |\n",
            "+-----------------------+---------------+---------------+\n",
            "| Neuronal Atrophy(NO)  | 0.2           | 0.05          |\n",
            "+-----------------------+---------------+---------------+ \n",
            "\n",
            "CPT of Stroke ==>\n",
            "+-------------+---------------+---------------+\n",
            "| Age         | Age(ABOVE_65) | Age(BELOW_65) |\n",
            "+-------------+---------------+---------------+\n",
            "| Stroke(YES) | 0.85          | 0.99          |\n",
            "+-------------+---------------+---------------+\n",
            "| Stroke(NO)  | 0.15          | 0.01          |\n",
            "+-------------+---------------+---------------+ \n",
            "\n",
            "CPT of Dementia ==>\n",
            "+------------------+-----+----------------------+\n",
            "| Neuronal Atrophy | ... | Neuronal Atrophy(NO) |\n",
            "+------------------+-----+----------------------+\n",
            "| Stroke           | ... | Stroke(NO)           |\n",
            "+------------------+-----+----------------------+\n",
            "| Dementia(YES)    | ... | 0.15                 |\n",
            "+------------------+-----+----------------------+\n",
            "| Dementia(NO)     | ... | 0.85                 |\n",
            "+------------------+-----+----------------------+ \n",
            "\n",
            "CPT of Wheelchair ==>\n",
            "+-----------------+-------------+------------+\n",
            "| Stroke          | Stroke(YES) | Stroke(NO) |\n",
            "+-----------------+-------------+------------+\n",
            "| Wheelchair(YES) | 0.7         | 0.1        |\n",
            "+-----------------+-------------+------------+\n",
            "| Wheelchair(NO)  | 0.3         | 0.9        |\n",
            "+-----------------+-------------+------------+ \n",
            "\n"
          ]
        }
      ]
    },
    {
      "cell_type": "markdown",
      "source": [
        "### Analyzing the network.\n",
        "\n",
        "Following are the various functions applied on the network:"
      ],
      "metadata": {
        "id": "fg5MLnvZziJN"
      }
    },
    {
      "cell_type": "markdown",
      "source": [
        "Viewing nodes of the model."
      ],
      "metadata": {
        "id": "gqaJcyAjhHYb"
      }
    },
    {
      "cell_type": "code",
      "source": [
        "risk_of_dementia_model.nodes()"
      ],
      "metadata": {
        "colab": {
          "base_uri": "https://localhost:8080/"
        },
        "id": "9uZzMEuxhHJD",
        "outputId": "04c71faa-bc90-42a9-94b8-a0ac9008bd3d"
      },
      "execution_count": 168,
      "outputs": [
        {
          "output_type": "execute_result",
          "data": {
            "text/plain": [
              "NodeView(('Age', 'Neuronal Atrophy', 'Stroke', 'Dementia', 'Wheelchair'))"
            ]
          },
          "metadata": {},
          "execution_count": 168
        }
      ]
    },
    {
      "cell_type": "markdown",
      "source": [
        "Viewing edges of the model."
      ],
      "metadata": {
        "id": "M_3ITTK6rZHQ"
      }
    },
    {
      "cell_type": "code",
      "source": [
        "risk_of_dementia_model.edges()"
      ],
      "metadata": {
        "colab": {
          "base_uri": "https://localhost:8080/"
        },
        "id": "aLCvpgorrU4-",
        "outputId": "7c0eb71d-bd3a-4a20-b5a6-84efa4a727a7"
      },
      "execution_count": 169,
      "outputs": [
        {
          "output_type": "execute_result",
          "data": {
            "text/plain": [
              "OutEdgeView([('Age', 'Neuronal Atrophy'), ('Age', 'Stroke'), ('Neuronal Atrophy', 'Dementia'), ('Stroke', 'Dementia'), ('Stroke', 'Wheelchair')])"
            ]
          },
          "metadata": {},
          "execution_count": 169
        }
      ]
    },
    {
      "cell_type": "markdown",
      "source": [
        "Checking independcies of a node(Dementia,stroke). It can be clearly seen that Dementia doesn't directly depend if the person is using Wheelchair or on the persons age, given their influence on other factors such as Neuronal Antrophy and stroke.\n",
        "\n",
        "Similarly, stroke doesn't directly depend on Neuronal Antrophy given the age."
      ],
      "metadata": {
        "id": "fJnk100shTU7"
      }
    },
    {
      "cell_type": "code",
      "source": [
        "risk_of_dementia_model.local_independencies([dementia,stroke])"
      ],
      "metadata": {
        "colab": {
          "base_uri": "https://localhost:8080/"
        },
        "id": "xa0jy6yRhZem",
        "outputId": "c91bd0ae-da83-4ec7-afc5-a1bfd6698cd5"
      },
      "execution_count": 170,
      "outputs": [
        {
          "output_type": "execute_result",
          "data": {
            "text/plain": [
              "(Dementia ⟂ Wheelchair, Age | Neuronal Atrophy, Stroke)\n",
              "(Stroke ⟂ Neuronal Atrophy | Age)"
            ]
          },
          "metadata": {},
          "execution_count": 170
        }
      ]
    },
    {
      "cell_type": "markdown",
      "source": [
        "Listing all Independencies\n"
      ],
      "metadata": {
        "id": "2dOHXQgOh0UU"
      }
    },
    {
      "cell_type": "code",
      "source": [
        "risk_of_dementia_model.get_independencies()"
      ],
      "metadata": {
        "colab": {
          "base_uri": "https://localhost:8080/"
        },
        "id": "BGqtLiMMh6ZO",
        "outputId": "24bef182-6c9a-41b8-e96d-667cdc43b71b"
      },
      "execution_count": 171,
      "outputs": [
        {
          "output_type": "execute_result",
          "data": {
            "text/plain": [
              "(Dementia ⟂ Wheelchair | Stroke)\n",
              "(Dementia ⟂ Wheelchair, Age | Neuronal Atrophy, Stroke)\n",
              "(Dementia ⟂ Wheelchair | Stroke, Age)\n",
              "(Dementia ⟂ Age | Neuronal Atrophy, Stroke, Wheelchair)\n",
              "(Dementia ⟂ Wheelchair | Neuronal Atrophy, Stroke, Age)\n",
              "(Age ⟂ Wheelchair | Stroke)\n",
              "(Age ⟂ Wheelchair | Dementia, Stroke)\n",
              "(Age ⟂ Dementia, Wheelchair | Neuronal Atrophy, Stroke)\n",
              "(Age ⟂ Wheelchair | Dementia, Neuronal Atrophy, Stroke)\n",
              "(Age ⟂ Dementia | Neuronal Atrophy, Stroke, Wheelchair)\n",
              "(Neuronal Atrophy ⟂ Wheelchair | Stroke)\n",
              "(Neuronal Atrophy ⟂ Stroke, Wheelchair | Age)\n",
              "(Neuronal Atrophy ⟂ Wheelchair | Dementia, Stroke)\n",
              "(Neuronal Atrophy ⟂ Wheelchair | Stroke, Age)\n",
              "(Neuronal Atrophy ⟂ Stroke | Age, Wheelchair)\n",
              "(Neuronal Atrophy ⟂ Wheelchair | Dementia, Stroke, Age)\n",
              "(Stroke ⟂ Neuronal Atrophy | Age)\n",
              "(Stroke ⟂ Neuronal Atrophy | Age, Wheelchair)\n",
              "(Wheelchair ⟂ Dementia, Neuronal Atrophy, Age | Stroke)\n",
              "(Wheelchair ⟂ Neuronal Atrophy | Age)\n",
              "(Wheelchair ⟂ Neuronal Atrophy, Age | Dementia, Stroke)\n",
              "(Wheelchair ⟂ Dementia, Age | Neuronal Atrophy, Stroke)\n",
              "(Wheelchair ⟂ Dementia, Neuronal Atrophy | Stroke, Age)\n",
              "(Wheelchair ⟂ Age | Dementia, Neuronal Atrophy, Stroke)\n",
              "(Wheelchair ⟂ Neuronal Atrophy | Dementia, Stroke, Age)\n",
              "(Wheelchair ⟂ Dementia | Neuronal Atrophy, Stroke, Age)"
            ]
          },
          "metadata": {},
          "execution_count": 171
        }
      ]
    },
    {
      "cell_type": "markdown",
      "source": [
        "Graphical View of the Netwrok."
      ],
      "metadata": {
        "id": "HgY2COSDjoNh"
      }
    },
    {
      "cell_type": "code",
      "source": [
        "DAG = nx.DiGraph(risk_of_dementia_model.edges())\n",
        "\n",
        "fig = plt.figure(figsize = (8,5))\n",
        "pos = nx.spring_layout(DAG) \n",
        "\n",
        "nx.draw_networkx_nodes(DAG, pos = pos, node_color = 'pink', node_size = 300)\n",
        "nx.draw_networkx_labels(DAG, pos = pos)\n",
        "nx.draw_networkx_edges(DAG, pos = pos, edge_color = 'black', width = 1.5, arrows = True)\n",
        "\n",
        "plt.show()"
      ],
      "metadata": {
        "colab": {
          "base_uri": "https://localhost:8080/",
          "height": 303
        },
        "id": "BSkyuXb1jq9v",
        "outputId": "4797bcd3-e91e-4a47-90cc-6b04aa753fa1"
      },
      "execution_count": 191,
      "outputs": [
        {
          "output_type": "display_data",
          "data": {
            "text/plain": [
              "<Figure size 576x360 with 1 Axes>"
            ],
            "image/png": "[encoded data removed]"
          },
          "metadata": {}
        }
      ]
    },
    {
      "cell_type": "markdown",
      "source": [
        "Infering the posterior probability"
      ],
      "metadata": {
        "id": "UyuOTlvapotj"
      }
    },
    {
      "cell_type": "code",
      "source": [
        "variable_elimination_infer = VariableElimination(risk_of_dementia_model)"
      ],
      "metadata": {
        "id": "4MEGhQ9RYzh4"
      },
      "execution_count": 173,
      "outputs": []
    },
    {
      "cell_type": "markdown",
      "source": [
        "We will calculate the probability of having dementia if the age is above 65 or below 65. Does age really affects the chances of having dementia."
      ],
      "metadata": {
        "id": "SouRMN1Rfps7"
      }
    },
    {
      "cell_type": "code",
      "source": [
        "for value in [ABOVE_65, BELOW_65]:\n",
        "     posterior = variable_elimination_infer.query([dementia], evidence={age: value}, show_progress=False)\n",
        "     print(\"Probability having dementia with age {} is {}.\"\\\n",
        "       .format('above 65' if value == ABOVE_65 else 'below 65', posterior.get_value(Dementia=YES)))"
      ],
      "metadata": {
        "colab": {
          "base_uri": "https://localhost:8080/"
        },
        "id": "2gBtim1zf20Z",
        "outputId": "99549ed9-4e02-4fbb-8864-50da9aa17b6d"
      },
      "execution_count": 174,
      "outputs": [
        {
          "output_type": "stream",
          "name": "stdout",
          "text": [
            "Probability having dementia with age above 65 is 0.775.\n",
            "Probability having dementia with age below 65 is 0.919625.\n"
          ]
        }
      ]
    },
    {
      "cell_type": "markdown",
      "source": [
        "We will also see the probability of having dementia if a person never has a stroke or neuronal antrophy in their life. It has been seen that these two conditions directly influence dementia. We see there is no difference between ages. "
      ],
      "metadata": {
        "id": "W2DHx2wzoq-S"
      }
    },
    {
      "cell_type": "code",
      "source": [
        "for value in [ABOVE_65, BELOW_65]:\n",
        "     posterior = variable_elimination_infer.query([dementia], evidence={age: value, stroke: NO, neuronalAtrophy: NO}, show_progress=False)\n",
        "     print(\"Probability having dementia with age {} and no stroke or neuronal antrophy is {}.\"\\\n",
        "       .format('above 65' if value == ABOVE_65 else 'below 65', posterior.get_value(Dementia=YES)))"
      ],
      "metadata": {
        "colab": {
          "base_uri": "https://localhost:8080/"
        },
        "id": "jWxVrQsxpR_x",
        "outputId": "6fd715ff-8a0e-4b18-db12-d074d0659911"
      },
      "execution_count": 175,
      "outputs": [
        {
          "output_type": "stream",
          "name": "stdout",
          "text": [
            "Probability having dementia with age above 65 and no stroke or neuronal antrophy is 0.15.\n",
            "Probability having dementia with age below 65 and no stroke or neuronal antrophy is 0.15.\n"
          ]
        }
      ]
    },
    {
      "cell_type": "markdown",
      "source": [
        "Since, we know that stroke and neuronal antrphy are the conditions that directly influence dimentia. We will see the probability of having dementia if a person had both a stroke and neuronal antrophy in their life. We see there is no difference between different ages."
      ],
      "metadata": {
        "id": "T0lzvWRwp7OH"
      }
    },
    {
      "cell_type": "code",
      "source": [
        "for value in [ABOVE_65, BELOW_65]:\n",
        "     posterior = variable_elimination_infer.query([dementia], evidence={age: value, stroke: YES, neuronalAtrophy: YES}, show_progress=False)\n",
        "     print(\"Probability having dementia with age {} having stroke and neuronal antrophy is {}.\"\\\n",
        "       .format('above 65' if value == ABOVE_65 else 'below 65', posterior.get_value(Dementia=YES)))"
      ],
      "metadata": {
        "colab": {
          "base_uri": "https://localhost:8080/"
        },
        "id": "vbk93vetqO-q",
        "outputId": "43109813-af51-4f69-8c65-09275e1a9c0e"
      },
      "execution_count": 176,
      "outputs": [
        {
          "output_type": "stream",
          "name": "stdout",
          "text": [
            "Probability having dementia with age above 65 having stroke and neuronal antrophy is 0.95.\n",
            "Probability having dementia with age below 65 having stroke and neuronal antrophy is 0.95.\n"
          ]
        }
      ]
    },
    {
      "cell_type": "markdown",
      "source": [
        "We are also able to show if there exist any active trail from nodes, given some observations."
      ],
      "metadata": {
        "id": "-3slU43rTbQQ"
      }
    },
    {
      "cell_type": "code",
      "source": [
        "risk_of_dementia_model.active_trail_nodes(stroke, observed='Age')"
      ],
      "metadata": {
        "colab": {
          "base_uri": "https://localhost:8080/"
        },
        "id": "1Acwb_KjTfZr",
        "outputId": "323d0e6e-3cca-4d5f-c016-4feb9e7444e7"
      },
      "execution_count": 177,
      "outputs": [
        {
          "output_type": "execute_result",
          "data": {
            "text/plain": [
              "{'Stroke': {'Dementia', 'Stroke', 'Wheelchair'}}"
            ]
          },
          "metadata": {},
          "execution_count": 177
        }
      ]
    },
    {
      "cell_type": "markdown",
      "source": [
        "We can see without any observation stroke has some active trails to other nodes. Let's see what will happen in case we provide its markov blanket as the observation:"
      ],
      "metadata": {
        "id": "4brNP0GuUpwy"
      }
    },
    {
      "cell_type": "code",
      "source": [
        "stroke_markov_blanket = risk_of_dementia_model.get_markov_blanket(stroke)\n",
        "risk_of_dementia_model.active_trail_nodes(stroke, observed=stroke_markov_blanket)"
      ],
      "metadata": {
        "colab": {
          "base_uri": "https://localhost:8080/"
        },
        "id": "FcX7OzSDUuu3",
        "outputId": "08370c08-a3be-4109-923d-0dee562f3c01"
      },
      "execution_count": 178,
      "outputs": [
        {
          "output_type": "execute_result",
          "data": {
            "text/plain": [
              "{'Stroke': {'Stroke'}}"
            ]
          },
          "metadata": {},
          "execution_count": 178
        }
      ]
    },
    {
      "cell_type": "markdown",
      "source": [
        "Given the markov blanket for stroke, there is no more active trail from stroke to the other nodes."
      ],
      "metadata": {
        "id": "p4WRa7tyVCqM"
      }
    },
    {
      "cell_type": "markdown",
      "source": [
        "## Sampling and Inferences:\n"
      ],
      "metadata": {
        "id": "tPho9uW5VPi5"
      }
    },
    {
      "cell_type": "markdown",
      "source": [
        "Gibbs Sampling"
      ],
      "metadata": {
        "id": "YLwofIDFKx2z"
      }
    },
    {
      "cell_type": "code",
      "source": [
        "gibbs_chain = GibbsSampling(risk_of_dementia_model)\n",
        "inference = BayesianModelSampling(risk_of_dementia_model)"
      ],
      "metadata": {
        "id": "9kam5arUVmrG"
      },
      "execution_count": 179,
      "outputs": []
    },
    {
      "cell_type": "code",
      "source": [
        "gibbs_sampling_df = gibbs_chain.sample(size=2500, seed=1)\n",
        "gibbs_sampling_df"
      ],
      "metadata": {
        "colab": {
          "base_uri": "https://localhost:8080/",
          "height": 455,
          "referenced_widgets": [
            "b2f1c9358ef84c25bf97504e83516096",
            "0faf128d7d8f4bf8b76e9010f61087fb",
            "74194f4d60464df584db5de5e7921f22",
            "cf666ce6465a4ad99b24e79e80014f85",
            "63f96fee5f094c97abb736e702b36603",
            "9bf6a875c7344d4094dd1c69f5898da6",
            "fd30539fde9d4f7288c23b1814c2d6be",
            "f99fe404484546a0900890e663f7bd74",
            "68eafdf970054f8c893ff8141fb159df",
            "afd27cb878264b739b8bc893c393bba0",
            "1b7ba1d2da0e46c8808c092987af787e"
          ]
        },
        "id": "6P1hvov-VNnU",
        "outputId": "795ff6ac-67bf-4f16-f296-bdbc97473432"
      },
      "execution_count": 180,
      "outputs": [
        {
          "output_type": "display_data",
          "data": {
            "text/plain": [
              "  0%|          | 0/2499 [00:00<?, ?it/s]"
            ],
            "application/vnd.jupyter.widget-view+json": {
              "version_major": 2,
              "version_minor": 0,
              "model_id": "b2f1c9358ef84c25bf97504e83516096"
            }
          },
          "metadata": {}
        },
        {
          "output_type": "execute_result",
          "data": {
            "text/plain": [
              "      Age  Neuronal Atrophy  Stroke  Dementia  Wheelchair\n",
              "0       1                 1       0         0           1\n",
              "1       0                 0       0         0           0\n",
              "2       0                 0       0         0           0\n",
              "3       0                 0       0         0           0\n",
              "4       1                 0       0         0           0\n",
              "...   ...               ...     ...       ...         ...\n",
              "2495    0                 1       0         0           0\n",
              "2496    1                 0       0         0           0\n",
              "2497    1                 0       0         0           0\n",
              "2498    1                 0       0         0           0\n",
              "2499    0                 0       0         0           1\n",
              "\n",
              "[2500 rows x 5 columns]"
            ],
            "text/html": [
              "\n",
              "  <div id=\"df-c2c21cd5-4c83-46fc-a615-9cf95a84db23\">\n",
              "    <div class=\"colab-df-container\">\n",
              "      <div>\n",
              "<style scoped>\n",
              "    .dataframe tbody tr th:only-of-type {\n",
              "        vertical-align: middle;\n",
              "    }\n",
              "\n",
              "    .dataframe tbody tr th {\n",
              "        vertical-align: top;\n",
              "    }\n",
              "\n",
              "    .dataframe thead th {\n",
              "        text-align: right;\n",
              "    }\n",
              "</style>\n",
              "<table border=\"1\" class=\"dataframe\">\n",
              "  <thead>\n",
              "    <tr style=\"text-align: right;\">\n",
              "      <th></th>\n",
              "      <th>Age</th>\n",
              "      <th>Neuronal Atrophy</th>\n",
              "      <th>Stroke</th>\n",
              "      <th>Dementia</th>\n",
              "      <th>Wheelchair</th>\n",
              "    </tr>\n",
              "  </thead>\n",
              "  <tbody>\n",
              "    <tr>\n",
              "      <th>0</th>\n",
              "      <td>1</td>\n",
              "      <td>1</td>\n",
              "      <td>0</td>\n",
              "      <td>0</td>\n",
              "      <td>1</td>\n",
              "    </tr>\n",
              "    <tr>\n",
              "      <th>1</th>\n",
              "      <td>0</td>\n",
              "      <td>0</td>\n",
              "      <td>0</td>\n",
              "      <td>0</td>\n",
              "      <td>0</td>\n",
              "    </tr>\n",
              "    <tr>\n",
              "      <th>2</th>\n",
              "      <td>0</td>\n",
              "      <td>0</td>\n",
              "      <td>0</td>\n",
              "      <td>0</td>\n",
              "      <td>0</td>\n",
              "    </tr>\n",
              "    <tr>\n",
              "      <th>3</th>\n",
              "      <td>0</td>\n",
              "      <td>0</td>\n",
              "      <td>0</td>\n",
              "      <td>0</td>\n",
              "      <td>0</td>\n",
              "    </tr>\n",
              "    <tr>\n",
              "      <th>4</th>\n",
              "      <td>1</td>\n",
              "      <td>0</td>\n",
              "      <td>0</td>\n",
              "      <td>0</td>\n",
              "      <td>0</td>\n",
              "    </tr>\n",
              "    <tr>\n",
              "      <th>...</th>\n",
              "      <td>...</td>\n",
              "      <td>...</td>\n",
              "      <td>...</td>\n",
              "      <td>...</td>\n",
              "      <td>...</td>\n",
              "    </tr>\n",
              "    <tr>\n",
              "      <th>2495</th>\n",
              "      <td>0</td>\n",
              "      <td>1</td>\n",
              "      <td>0</td>\n",
              "      <td>0</td>\n",
              "      <td>0</td>\n",
              "    </tr>\n",
              "    <tr>\n",
              "      <th>2496</th>\n",
              "      <td>1</td>\n",
              "      <td>0</td>\n",
              "      <td>0</td>\n",
              "      <td>0</td>\n",
              "      <td>0</td>\n",
              "    </tr>\n",
              "    <tr>\n",
              "      <th>2497</th>\n",
              "      <td>1</td>\n",
              "      <td>0</td>\n",
              "      <td>0</td>\n",
              "      <td>0</td>\n",
              "      <td>0</td>\n",
              "    </tr>\n",
              "    <tr>\n",
              "      <th>2498</th>\n",
              "      <td>1</td>\n",
              "      <td>0</td>\n",
              "      <td>0</td>\n",
              "      <td>0</td>\n",
              "      <td>0</td>\n",
              "    </tr>\n",
              "    <tr>\n",
              "      <th>2499</th>\n",
              "      <td>0</td>\n",
              "      <td>0</td>\n",
              "      <td>0</td>\n",
              "      <td>0</td>\n",
              "      <td>1</td>\n",
              "    </tr>\n",
              "  </tbody>\n",
              "</table>\n",
              "<p>2500 rows × 5 columns</p>\n",
              "</div>\n",
              "      <button class=\"colab-df-convert\" onclick=\"convertToInteractive('df-c2c21cd5-4c83-46fc-a615-9cf95a84db23')\"\n",
              "              title=\"Convert this dataframe to an interactive table.\"\n",
              "              style=\"display:none;\">\n",
              "        \n",
              "  <svg xmlns=\"http://www.w3.org/2000/svg\" height=\"24px\"viewBox=\"0 0 24 24\"\n",
              "       width=\"24px\">\n",
              "    <path d=\"M0 0h24v24H0V0z\" fill=\"none\"/>\n",
              "    <path d=\"M18.56 5.44l.94 2.06.94-2.06 2.06-.94-2.06-.94-.94-2.06-.94 2.06-2.06.94zm-11 1L8.5 8.5l.94-2.06 2.06-.94-2.06-.94L8.5 2.5l-.94 2.06-2.06.94zm10 10l.94 2.06.94-2.06 2.06-.94-2.06-.94-.94-2.06-.94 2.06-2.06.94z\"/><path d=\"M17.41 7.96l-1.37-1.37c-.4-.4-.92-.59-1.43-.59-.52 0-1.04.2-1.43.59L10.3 9.45l-7.72 7.72c-.78.78-.78 2.05 0 2.83L4 21.41c.39.39.9.59 1.41.59.51 0 1.02-.2 1.41-.59l7.78-7.78 2.81-2.81c.8-.78.8-2.07 0-2.86zM5.41 20L4 18.59l7.72-7.72 1.47 1.35L5.41 20z\"/>\n",
              "  </svg>\n",
              "      </button>\n",
              "      \n",
              "  <style>\n",
              "    .colab-df-container {\n",
              "      display:flex;\n",
              "      flex-wrap:wrap;\n",
              "      gap: 12px;\n",
              "    }\n",
              "\n",
              "    .colab-df-convert {\n",
              "      background-color: #E8F0FE;\n",
              "      border: none;\n",
              "      border-radius: 50%;\n",
              "      cursor: pointer;\n",
              "      display: none;\n",
              "      fill: #1967D2;\n",
              "      height: 32px;\n",
              "      padding: 0 0 0 0;\n",
              "      width: 32px;\n",
              "    }\n",
              "\n",
              "    .colab-df-convert:hover {\n",
              "      background-color: #E2EBFA;\n",
              "      box-shadow: 0px 1px 2px rgba(60, 64, 67, 0.3), 0px 1px 3px 1px rgba(60, 64, 67, 0.15);\n",
              "      fill: #174EA6;\n",
              "    }\n",
              "\n",
              "    [theme=dark] .colab-df-convert {\n",
              "      background-color: #3B4455;\n",
              "      fill: #D2E3FC;\n",
              "    }\n",
              "\n",
              "    [theme=dark] .colab-df-convert:hover {\n",
              "      background-color: #434B5C;\n",
              "      box-shadow: 0px 1px 3px 1px rgba(0, 0, 0, 0.15);\n",
              "      filter: drop-shadow(0px 1px 2px rgba(0, 0, 0, 0.3));\n",
              "      fill: #FFFFFF;\n",
              "    }\n",
              "  </style>\n",
              "\n",
              "      <script>\n",
              "        const buttonEl =\n",
              "          document.querySelector('#df-c2c21cd5-4c83-46fc-a615-9cf95a84db23 button.colab-df-convert');\n",
              "        buttonEl.style.display =\n",
              "          google.colab.kernel.accessAllowed ? 'block' : 'none';\n",
              "\n",
              "        async function convertToInteractive(key) {\n",
              "          const element = document.querySelector('#df-c2c21cd5-4c83-46fc-a615-9cf95a84db23');\n",
              "          const dataTable =\n",
              "            await google.colab.kernel.invokeFunction('convertToInteractive',\n",
              "                                                     [key], {});\n",
              "          if (!dataTable) return;\n",
              "\n",
              "          const docLinkHtml = 'Like what you see? Visit the ' +\n",
              "            '<a target=\"_blank\" href=https://colab.research.google.com/notebooks/data_table.ipynb>data table notebook</a>'\n",
              "            + ' to learn more about interactive tables.';\n",
              "          element.innerHTML = '';\n",
              "          dataTable['output_type'] = 'display_data';\n",
              "          await google.colab.output.renderOutput(dataTable, element);\n",
              "          const docLink = document.createElement('div');\n",
              "          docLink.innerHTML = docLinkHtml;\n",
              "          element.appendChild(docLink);\n",
              "        }\n",
              "      </script>\n",
              "    </div>\n",
              "  </div>\n",
              "  "
            ]
          },
          "metadata": {},
          "execution_count": 180
        }
      ]
    },
    {
      "cell_type": "markdown",
      "source": [
        "Forward Sampling"
      ],
      "metadata": {
        "id": "vbrO2QSNWBmF"
      }
    },
    {
      "cell_type": "code",
      "source": [
        "forward_sampling_df = inference.forward_sample(size=10000, seed=1, show_progress=False)\n",
        "forward_sampling_df"
      ],
      "metadata": {
        "colab": {
          "base_uri": "https://localhost:8080/",
          "height": 423
        },
        "id": "eqqjzr7TV-lx",
        "outputId": "0649a627-615e-4b6e-9b4f-deb48e34993d"
      },
      "execution_count": 181,
      "outputs": [
        {
          "output_type": "execute_result",
          "data": {
            "text/plain": [
              "           Age Neuronal Atrophy Stroke Dementia Wheelchair\n",
              "0     ABOVE_65              YES    YES      YES        YES\n",
              "1     BELOW_65               NO    YES       NO        YES\n",
              "2     ABOVE_65              YES    YES      YES        YES\n",
              "3     ABOVE_65              YES     NO      YES         NO\n",
              "4     ABOVE_65               NO     NO       NO        YES\n",
              "...        ...              ...    ...      ...        ...\n",
              "9995  ABOVE_65              YES    YES      YES        YES\n",
              "9996  ABOVE_65              YES    YES      YES        YES\n",
              "9997  ABOVE_65              YES    YES      YES         NO\n",
              "9998  ABOVE_65               NO    YES      YES        YES\n",
              "9999  BELOW_65              YES    YES      YES         NO\n",
              "\n",
              "[10000 rows x 5 columns]"
            ],
            "text/html": [
              "\n",
              "  <div id=\"df-18ccb175-7963-46ed-a783-1eb24e195838\">\n",
              "    <div class=\"colab-df-container\">\n",
              "      <div>\n",
              "<style scoped>\n",
              "    .dataframe tbody tr th:only-of-type {\n",
              "        vertical-align: middle;\n",
              "    }\n",
              "\n",
              "    .dataframe tbody tr th {\n",
              "        vertical-align: top;\n",
              "    }\n",
              "\n",
              "    .dataframe thead th {\n",
              "        text-align: right;\n",
              "    }\n",
              "</style>\n",
              "<table border=\"1\" class=\"dataframe\">\n",
              "  <thead>\n",
              "    <tr style=\"text-align: right;\">\n",
              "      <th></th>\n",
              "      <th>Age</th>\n",
              "      <th>Neuronal Atrophy</th>\n",
              "      <th>Stroke</th>\n",
              "      <th>Dementia</th>\n",
              "      <th>Wheelchair</th>\n",
              "    </tr>\n",
              "  </thead>\n",
              "  <tbody>\n",
              "    <tr>\n",
              "      <th>0</th>\n",
              "      <td>ABOVE_65</td>\n",
              "      <td>YES</td>\n",
              "      <td>YES</td>\n",
              "      <td>YES</td>\n",
              "      <td>YES</td>\n",
              "    </tr>\n",
              "    <tr>\n",
              "      <th>1</th>\n",
              "      <td>BELOW_65</td>\n",
              "      <td>NO</td>\n",
              "      <td>YES</td>\n",
              "      <td>NO</td>\n",
              "      <td>YES</td>\n",
              "    </tr>\n",
              "    <tr>\n",
              "      <th>2</th>\n",
              "      <td>ABOVE_65</td>\n",
              "      <td>YES</td>\n",
              "      <td>YES</td>\n",
              "      <td>YES</td>\n",
              "      <td>YES</td>\n",
              "    </tr>\n",
              "    <tr>\n",
              "      <th>3</th>\n",
              "      <td>ABOVE_65</td>\n",
              "      <td>YES</td>\n",
              "      <td>NO</td>\n",
              "      <td>YES</td>\n",
              "      <td>NO</td>\n",
              "    </tr>\n",
              "    <tr>\n",
              "      <th>4</th>\n",
              "      <td>ABOVE_65</td>\n",
              "      <td>NO</td>\n",
              "      <td>NO</td>\n",
              "      <td>NO</td>\n",
              "      <td>YES</td>\n",
              "    </tr>\n",
              "    <tr>\n",
              "      <th>...</th>\n",
              "      <td>...</td>\n",
              "      <td>...</td>\n",
              "      <td>...</td>\n",
              "      <td>...</td>\n",
              "      <td>...</td>\n",
              "    </tr>\n",
              "    <tr>\n",
              "      <th>9995</th>\n",
              "      <td>ABOVE_65</td>\n",
              "      <td>YES</td>\n",
              "      <td>YES</td>\n",
              "      <td>YES</td>\n",
              "      <td>YES</td>\n",
              "    </tr>\n",
              "    <tr>\n",
              "      <th>9996</th>\n",
              "      <td>ABOVE_65</td>\n",
              "      <td>YES</td>\n",
              "      <td>YES</td>\n",
              "      <td>YES</td>\n",
              "      <td>YES</td>\n",
              "    </tr>\n",
              "    <tr>\n",
              "      <th>9997</th>\n",
              "      <td>ABOVE_65</td>\n",
              "      <td>YES</td>\n",
              "      <td>YES</td>\n",
              "      <td>YES</td>\n",
              "      <td>NO</td>\n",
              "    </tr>\n",
              "    <tr>\n",
              "      <th>9998</th>\n",
              "      <td>ABOVE_65</td>\n",
              "      <td>NO</td>\n",
              "      <td>YES</td>\n",
              "      <td>YES</td>\n",
              "      <td>YES</td>\n",
              "    </tr>\n",
              "    <tr>\n",
              "      <th>9999</th>\n",
              "      <td>BELOW_65</td>\n",
              "      <td>YES</td>\n",
              "      <td>YES</td>\n",
              "      <td>YES</td>\n",
              "      <td>NO</td>\n",
              "    </tr>\n",
              "  </tbody>\n",
              "</table>\n",
              "<p>10000 rows × 5 columns</p>\n",
              "</div>\n",
              "      <button class=\"colab-df-convert\" onclick=\"convertToInteractive('df-18ccb175-7963-46ed-a783-1eb24e195838')\"\n",
              "              title=\"Convert this dataframe to an interactive table.\"\n",
              "              style=\"display:none;\">\n",
              "        \n",
              "  <svg xmlns=\"http://www.w3.org/2000/svg\" height=\"24px\"viewBox=\"0 0 24 24\"\n",
              "       width=\"24px\">\n",
              "    <path d=\"M0 0h24v24H0V0z\" fill=\"none\"/>\n",
              "    <path d=\"M18.56 5.44l.94 2.06.94-2.06 2.06-.94-2.06-.94-.94-2.06-.94 2.06-2.06.94zm-11 1L8.5 8.5l.94-2.06 2.06-.94-2.06-.94L8.5 2.5l-.94 2.06-2.06.94zm10 10l.94 2.06.94-2.06 2.06-.94-2.06-.94-.94-2.06-.94 2.06-2.06.94z\"/><path d=\"M17.41 7.96l-1.37-1.37c-.4-.4-.92-.59-1.43-.59-.52 0-1.04.2-1.43.59L10.3 9.45l-7.72 7.72c-.78.78-.78 2.05 0 2.83L4 21.41c.39.39.9.59 1.41.59.51 0 1.02-.2 1.41-.59l7.78-7.78 2.81-2.81c.8-.78.8-2.07 0-2.86zM5.41 20L4 18.59l7.72-7.72 1.47 1.35L5.41 20z\"/>\n",
              "  </svg>\n",
              "      </button>\n",
              "      \n",
              "  <style>\n",
              "    .colab-df-container {\n",
              "      display:flex;\n",
              "      flex-wrap:wrap;\n",
              "      gap: 12px;\n",
              "    }\n",
              "\n",
              "    .colab-df-convert {\n",
              "      background-color: #E8F0FE;\n",
              "      border: none;\n",
              "      border-radius: 50%;\n",
              "      cursor: pointer;\n",
              "      display: none;\n",
              "      fill: #1967D2;\n",
              "      height: 32px;\n",
              "      padding: 0 0 0 0;\n",
              "      width: 32px;\n",
              "    }\n",
              "\n",
              "    .colab-df-convert:hover {\n",
              "      background-color: #E2EBFA;\n",
              "      box-shadow: 0px 1px 2px rgba(60, 64, 67, 0.3), 0px 1px 3px 1px rgba(60, 64, 67, 0.15);\n",
              "      fill: #174EA6;\n",
              "    }\n",
              "\n",
              "    [theme=dark] .colab-df-convert {\n",
              "      background-color: #3B4455;\n",
              "      fill: #D2E3FC;\n",
              "    }\n",
              "\n",
              "    [theme=dark] .colab-df-convert:hover {\n",
              "      background-color: #434B5C;\n",
              "      box-shadow: 0px 1px 3px 1px rgba(0, 0, 0, 0.15);\n",
              "      filter: drop-shadow(0px 1px 2px rgba(0, 0, 0, 0.3));\n",
              "      fill: #FFFFFF;\n",
              "    }\n",
              "  </style>\n",
              "\n",
              "      <script>\n",
              "        const buttonEl =\n",
              "          document.querySelector('#df-18ccb175-7963-46ed-a783-1eb24e195838 button.colab-df-convert');\n",
              "        buttonEl.style.display =\n",
              "          google.colab.kernel.accessAllowed ? 'block' : 'none';\n",
              "\n",
              "        async function convertToInteractive(key) {\n",
              "          const element = document.querySelector('#df-18ccb175-7963-46ed-a783-1eb24e195838');\n",
              "          const dataTable =\n",
              "            await google.colab.kernel.invokeFunction('convertToInteractive',\n",
              "                                                     [key], {});\n",
              "          if (!dataTable) return;\n",
              "\n",
              "          const docLinkHtml = 'Like what you see? Visit the ' +\n",
              "            '<a target=\"_blank\" href=https://colab.research.google.com/notebooks/data_table.ipynb>data table notebook</a>'\n",
              "            + ' to learn more about interactive tables.';\n",
              "          element.innerHTML = '';\n",
              "          dataTable['output_type'] = 'display_data';\n",
              "          await google.colab.output.renderOutput(dataTable, element);\n",
              "          const docLink = document.createElement('div');\n",
              "          docLink.innerHTML = docLinkHtml;\n",
              "          element.appendChild(docLink);\n",
              "        }\n",
              "      </script>\n",
              "    </div>\n",
              "  </div>\n",
              "  "
            ]
          },
          "metadata": {},
          "execution_count": 181
        }
      ]
    },
    {
      "cell_type": "code",
      "source": [
        "evidence_dict = {age: ABOVE_65, stroke: YES}\n",
        "evidence = [State(age, NODES[age].state_names[ABOVE_65]), State(stroke, NODES[stroke].state_names[YES])]"
      ],
      "metadata": {
        "id": "Zv5WDw1cCLId"
      },
      "execution_count": 182,
      "outputs": []
    },
    {
      "cell_type": "markdown",
      "source": [
        "Likelihood weighted sampling"
      ],
      "metadata": {
        "id": "f3Gg7FfQWKTT"
      }
    },
    {
      "cell_type": "code",
      "source": [
        "likelihood_weighted_sampling_df = inference.likelihood_weighted_sample(size=10000, seed=1, evidence=evidence, show_progress=False)\n",
        "likelihood_weighted_sampling_df"
      ],
      "metadata": {
        "colab": {
          "base_uri": "https://localhost:8080/",
          "height": 423
        },
        "id": "lMKZXW7tWOpz",
        "outputId": "8e0bf578-d36c-4147-934d-55c6689b834e"
      },
      "execution_count": 183,
      "outputs": [
        {
          "output_type": "execute_result",
          "data": {
            "text/plain": [
              "           Age Neuronal Atrophy Stroke Dementia Wheelchair  _weight\n",
              "0     ABOVE_65              YES    YES      YES         NO    0.595\n",
              "1     ABOVE_65              YES    YES      YES        YES    0.595\n",
              "2     ABOVE_65              YES    YES      YES         NO    0.595\n",
              "3     ABOVE_65              YES    YES      YES         NO    0.595\n",
              "4     ABOVE_65              YES    YES      YES         NO    0.595\n",
              "...        ...              ...    ...      ...        ...      ...\n",
              "9995  ABOVE_65              YES    YES      YES        YES    0.595\n",
              "9996  ABOVE_65              YES    YES      YES        YES    0.595\n",
              "9997  ABOVE_65              YES    YES      YES        YES    0.595\n",
              "9998  ABOVE_65              YES    YES      YES         NO    0.595\n",
              "9999  ABOVE_65              YES    YES      YES        YES    0.595\n",
              "\n",
              "[10000 rows x 6 columns]"
            ],
            "text/html": [
              "\n",
              "  <div id=\"df-744bac36-e176-4455-b28e-8dd89c8f44b7\">\n",
              "    <div class=\"colab-df-container\">\n",
              "      <div>\n",
              "<style scoped>\n",
              "    .dataframe tbody tr th:only-of-type {\n",
              "        vertical-align: middle;\n",
              "    }\n",
              "\n",
              "    .dataframe tbody tr th {\n",
              "        vertical-align: top;\n",
              "    }\n",
              "\n",
              "    .dataframe thead th {\n",
              "        text-align: right;\n",
              "    }\n",
              "</style>\n",
              "<table border=\"1\" class=\"dataframe\">\n",
              "  <thead>\n",
              "    <tr style=\"text-align: right;\">\n",
              "      <th></th>\n",
              "      <th>Age</th>\n",
              "      <th>Neuronal Atrophy</th>\n",
              "      <th>Stroke</th>\n",
              "      <th>Dementia</th>\n",
              "      <th>Wheelchair</th>\n",
              "      <th>_weight</th>\n",
              "    </tr>\n",
              "  </thead>\n",
              "  <tbody>\n",
              "    <tr>\n",
              "      <th>0</th>\n",
              "      <td>ABOVE_65</td>\n",
              "      <td>YES</td>\n",
              "      <td>YES</td>\n",
              "      <td>YES</td>\n",
              "      <td>NO</td>\n",
              "      <td>0.595</td>\n",
              "    </tr>\n",
              "    <tr>\n",
              "      <th>1</th>\n",
              "      <td>ABOVE_65</td>\n",
              "      <td>YES</td>\n",
              "      <td>YES</td>\n",
              "      <td>YES</td>\n",
              "      <td>YES</td>\n",
              "      <td>0.595</td>\n",
              "    </tr>\n",
              "    <tr>\n",
              "      <th>2</th>\n",
              "      <td>ABOVE_65</td>\n",
              "      <td>YES</td>\n",
              "      <td>YES</td>\n",
              "      <td>YES</td>\n",
              "      <td>NO</td>\n",
              "      <td>0.595</td>\n",
              "    </tr>\n",
              "    <tr>\n",
              "      <th>3</th>\n",
              "      <td>ABOVE_65</td>\n",
              "      <td>YES</td>\n",
              "      <td>YES</td>\n",
              "      <td>YES</td>\n",
              "      <td>NO</td>\n",
              "      <td>0.595</td>\n",
              "    </tr>\n",
              "    <tr>\n",
              "      <th>4</th>\n",
              "      <td>ABOVE_65</td>\n",
              "      <td>YES</td>\n",
              "      <td>YES</td>\n",
              "      <td>YES</td>\n",
              "      <td>NO</td>\n",
              "      <td>0.595</td>\n",
              "    </tr>\n",
              "    <tr>\n",
              "      <th>...</th>\n",
              "      <td>...</td>\n",
              "      <td>...</td>\n",
              "      <td>...</td>\n",
              "      <td>...</td>\n",
              "      <td>...</td>\n",
              "      <td>...</td>\n",
              "    </tr>\n",
              "    <tr>\n",
              "      <th>9995</th>\n",
              "      <td>ABOVE_65</td>\n",
              "      <td>YES</td>\n",
              "      <td>YES</td>\n",
              "      <td>YES</td>\n",
              "      <td>YES</td>\n",
              "      <td>0.595</td>\n",
              "    </tr>\n",
              "    <tr>\n",
              "      <th>9996</th>\n",
              "      <td>ABOVE_65</td>\n",
              "      <td>YES</td>\n",
              "      <td>YES</td>\n",
              "      <td>YES</td>\n",
              "      <td>YES</td>\n",
              "      <td>0.595</td>\n",
              "    </tr>\n",
              "    <tr>\n",
              "      <th>9997</th>\n",
              "      <td>ABOVE_65</td>\n",
              "      <td>YES</td>\n",
              "      <td>YES</td>\n",
              "      <td>YES</td>\n",
              "      <td>YES</td>\n",
              "      <td>0.595</td>\n",
              "    </tr>\n",
              "    <tr>\n",
              "      <th>9998</th>\n",
              "      <td>ABOVE_65</td>\n",
              "      <td>YES</td>\n",
              "      <td>YES</td>\n",
              "      <td>YES</td>\n",
              "      <td>NO</td>\n",
              "      <td>0.595</td>\n",
              "    </tr>\n",
              "    <tr>\n",
              "      <th>9999</th>\n",
              "      <td>ABOVE_65</td>\n",
              "      <td>YES</td>\n",
              "      <td>YES</td>\n",
              "      <td>YES</td>\n",
              "      <td>YES</td>\n",
              "      <td>0.595</td>\n",
              "    </tr>\n",
              "  </tbody>\n",
              "</table>\n",
              "<p>10000 rows × 6 columns</p>\n",
              "</div>\n",
              "      <button class=\"colab-df-convert\" onclick=\"convertToInteractive('df-744bac36-e176-4455-b28e-8dd89c8f44b7')\"\n",
              "              title=\"Convert this dataframe to an interactive table.\"\n",
              "              style=\"display:none;\">\n",
              "        \n",
              "  <svg xmlns=\"http://www.w3.org/2000/svg\" height=\"24px\"viewBox=\"0 0 24 24\"\n",
              "       width=\"24px\">\n",
              "    <path d=\"M0 0h24v24H0V0z\" fill=\"none\"/>\n",
              "    <path d=\"M18.56 5.44l.94 2.06.94-2.06 2.06-.94-2.06-.94-.94-2.06-.94 2.06-2.06.94zm-11 1L8.5 8.5l.94-2.06 2.06-.94-2.06-.94L8.5 2.5l-.94 2.06-2.06.94zm10 10l.94 2.06.94-2.06 2.06-.94-2.06-.94-.94-2.06-.94 2.06-2.06.94z\"/><path d=\"M17.41 7.96l-1.37-1.37c-.4-.4-.92-.59-1.43-.59-.52 0-1.04.2-1.43.59L10.3 9.45l-7.72 7.72c-.78.78-.78 2.05 0 2.83L4 21.41c.39.39.9.59 1.41.59.51 0 1.02-.2 1.41-.59l7.78-7.78 2.81-2.81c.8-.78.8-2.07 0-2.86zM5.41 20L4 18.59l7.72-7.72 1.47 1.35L5.41 20z\"/>\n",
              "  </svg>\n",
              "      </button>\n",
              "      \n",
              "  <style>\n",
              "    .colab-df-container {\n",
              "      display:flex;\n",
              "      flex-wrap:wrap;\n",
              "      gap: 12px;\n",
              "    }\n",
              "\n",
              "    .colab-df-convert {\n",
              "      background-color: #E8F0FE;\n",
              "      border: none;\n",
              "      border-radius: 50%;\n",
              "      cursor: pointer;\n",
              "      display: none;\n",
              "      fill: #1967D2;\n",
              "      height: 32px;\n",
              "      padding: 0 0 0 0;\n",
              "      width: 32px;\n",
              "    }\n",
              "\n",
              "    .colab-df-convert:hover {\n",
              "      background-color: #E2EBFA;\n",
              "      box-shadow: 0px 1px 2px rgba(60, 64, 67, 0.3), 0px 1px 3px 1px rgba(60, 64, 67, 0.15);\n",
              "      fill: #174EA6;\n",
              "    }\n",
              "\n",
              "    [theme=dark] .colab-df-convert {\n",
              "      background-color: #3B4455;\n",
              "      fill: #D2E3FC;\n",
              "    }\n",
              "\n",
              "    [theme=dark] .colab-df-convert:hover {\n",
              "      background-color: #434B5C;\n",
              "      box-shadow: 0px 1px 3px 1px rgba(0, 0, 0, 0.15);\n",
              "      filter: drop-shadow(0px 1px 2px rgba(0, 0, 0, 0.3));\n",
              "      fill: #FFFFFF;\n",
              "    }\n",
              "  </style>\n",
              "\n",
              "      <script>\n",
              "        const buttonEl =\n",
              "          document.querySelector('#df-744bac36-e176-4455-b28e-8dd89c8f44b7 button.colab-df-convert');\n",
              "        buttonEl.style.display =\n",
              "          google.colab.kernel.accessAllowed ? 'block' : 'none';\n",
              "\n",
              "        async function convertToInteractive(key) {\n",
              "          const element = document.querySelector('#df-744bac36-e176-4455-b28e-8dd89c8f44b7');\n",
              "          const dataTable =\n",
              "            await google.colab.kernel.invokeFunction('convertToInteractive',\n",
              "                                                     [key], {});\n",
              "          if (!dataTable) return;\n",
              "\n",
              "          const docLinkHtml = 'Like what you see? Visit the ' +\n",
              "            '<a target=\"_blank\" href=https://colab.research.google.com/notebooks/data_table.ipynb>data table notebook</a>'\n",
              "            + ' to learn more about interactive tables.';\n",
              "          element.innerHTML = '';\n",
              "          dataTable['output_type'] = 'display_data';\n",
              "          await google.colab.output.renderOutput(dataTable, element);\n",
              "          const docLink = document.createElement('div');\n",
              "          docLink.innerHTML = docLinkHtml;\n",
              "          element.appendChild(docLink);\n",
              "        }\n",
              "      </script>\n",
              "    </div>\n",
              "  </div>\n",
              "  "
            ]
          },
          "metadata": {},
          "execution_count": 183
        }
      ]
    },
    {
      "cell_type": "markdown",
      "source": [
        "Rejection sampling"
      ],
      "metadata": {
        "id": "gy4MvF0cW8oO"
      }
    },
    {
      "cell_type": "code",
      "source": [
        "rejection_sampling_df = inference.rejection_sample(size=10000, evidence=evidence, show_progress=False)\n",
        "rejection_sampling_df"
      ],
      "metadata": {
        "colab": {
          "base_uri": "https://localhost:8080/",
          "height": 423
        },
        "id": "cutwSxhVXEjT",
        "outputId": "29382c0b-b949-4ea6-c717-839e1ab215e1"
      },
      "execution_count": 184,
      "outputs": [
        {
          "output_type": "execute_result",
          "data": {
            "text/plain": [
              "           Age Neuronal Atrophy Stroke Dementia Wheelchair\n",
              "0     ABOVE_65              YES    YES      YES        YES\n",
              "1     ABOVE_65              YES    YES      YES        YES\n",
              "2     ABOVE_65              YES    YES      YES         NO\n",
              "3     ABOVE_65               NO    YES      YES        YES\n",
              "4     ABOVE_65              YES    YES      YES        YES\n",
              "...        ...              ...    ...      ...        ...\n",
              "9995  ABOVE_65              YES    YES      YES        YES\n",
              "9996  ABOVE_65              YES    YES      YES        YES\n",
              "9997  ABOVE_65              YES    YES      YES        YES\n",
              "9998  ABOVE_65               NO    YES      YES        YES\n",
              "9999  ABOVE_65              YES    YES      YES         NO\n",
              "\n",
              "[10000 rows x 5 columns]"
            ],
            "text/html": [
              "\n",
              "  <div id=\"df-93e85825-3e12-416c-9547-67647bf072dc\">\n",
              "    <div class=\"colab-df-container\">\n",
              "      <div>\n",
              "<style scoped>\n",
              "    .dataframe tbody tr th:only-of-type {\n",
              "        vertical-align: middle;\n",
              "    }\n",
              "\n",
              "    .dataframe tbody tr th {\n",
              "        vertical-align: top;\n",
              "    }\n",
              "\n",
              "    .dataframe thead th {\n",
              "        text-align: right;\n",
              "    }\n",
              "</style>\n",
              "<table border=\"1\" class=\"dataframe\">\n",
              "  <thead>\n",
              "    <tr style=\"text-align: right;\">\n",
              "      <th></th>\n",
              "      <th>Age</th>\n",
              "      <th>Neuronal Atrophy</th>\n",
              "      <th>Stroke</th>\n",
              "      <th>Dementia</th>\n",
              "      <th>Wheelchair</th>\n",
              "    </tr>\n",
              "  </thead>\n",
              "  <tbody>\n",
              "    <tr>\n",
              "      <th>0</th>\n",
              "      <td>ABOVE_65</td>\n",
              "      <td>YES</td>\n",
              "      <td>YES</td>\n",
              "      <td>YES</td>\n",
              "      <td>YES</td>\n",
              "    </tr>\n",
              "    <tr>\n",
              "      <th>1</th>\n",
              "      <td>ABOVE_65</td>\n",
              "      <td>YES</td>\n",
              "      <td>YES</td>\n",
              "      <td>YES</td>\n",
              "      <td>YES</td>\n",
              "    </tr>\n",
              "    <tr>\n",
              "      <th>2</th>\n",
              "      <td>ABOVE_65</td>\n",
              "      <td>YES</td>\n",
              "      <td>YES</td>\n",
              "      <td>YES</td>\n",
              "      <td>NO</td>\n",
              "    </tr>\n",
              "    <tr>\n",
              "      <th>3</th>\n",
              "      <td>ABOVE_65</td>\n",
              "      <td>NO</td>\n",
              "      <td>YES</td>\n",
              "      <td>YES</td>\n",
              "      <td>YES</td>\n",
              "    </tr>\n",
              "    <tr>\n",
              "      <th>4</th>\n",
              "      <td>ABOVE_65</td>\n",
              "      <td>YES</td>\n",
              "      <td>YES</td>\n",
              "      <td>YES</td>\n",
              "      <td>YES</td>\n",
              "    </tr>\n",
              "    <tr>\n",
              "      <th>...</th>\n",
              "      <td>...</td>\n",
              "      <td>...</td>\n",
              "      <td>...</td>\n",
              "      <td>...</td>\n",
              "      <td>...</td>\n",
              "    </tr>\n",
              "    <tr>\n",
              "      <th>9995</th>\n",
              "      <td>ABOVE_65</td>\n",
              "      <td>YES</td>\n",
              "      <td>YES</td>\n",
              "      <td>YES</td>\n",
              "      <td>YES</td>\n",
              "    </tr>\n",
              "    <tr>\n",
              "      <th>9996</th>\n",
              "      <td>ABOVE_65</td>\n",
              "      <td>YES</td>\n",
              "      <td>YES</td>\n",
              "      <td>YES</td>\n",
              "      <td>YES</td>\n",
              "    </tr>\n",
              "    <tr>\n",
              "      <th>9997</th>\n",
              "      <td>ABOVE_65</td>\n",
              "      <td>YES</td>\n",
              "      <td>YES</td>\n",
              "      <td>YES</td>\n",
              "      <td>YES</td>\n",
              "    </tr>\n",
              "    <tr>\n",
              "      <th>9998</th>\n",
              "      <td>ABOVE_65</td>\n",
              "      <td>NO</td>\n",
              "      <td>YES</td>\n",
              "      <td>YES</td>\n",
              "      <td>YES</td>\n",
              "    </tr>\n",
              "    <tr>\n",
              "      <th>9999</th>\n",
              "      <td>ABOVE_65</td>\n",
              "      <td>YES</td>\n",
              "      <td>YES</td>\n",
              "      <td>YES</td>\n",
              "      <td>NO</td>\n",
              "    </tr>\n",
              "  </tbody>\n",
              "</table>\n",
              "<p>10000 rows × 5 columns</p>\n",
              "</div>\n",
              "      <button class=\"colab-df-convert\" onclick=\"convertToInteractive('df-93e85825-3e12-416c-9547-67647bf072dc')\"\n",
              "              title=\"Convert this dataframe to an interactive table.\"\n",
              "              style=\"display:none;\">\n",
              "        \n",
              "  <svg xmlns=\"http://www.w3.org/2000/svg\" height=\"24px\"viewBox=\"0 0 24 24\"\n",
              "       width=\"24px\">\n",
              "    <path d=\"M0 0h24v24H0V0z\" fill=\"none\"/>\n",
              "    <path d=\"M18.56 5.44l.94 2.06.94-2.06 2.06-.94-2.06-.94-.94-2.06-.94 2.06-2.06.94zm-11 1L8.5 8.5l.94-2.06 2.06-.94-2.06-.94L8.5 2.5l-.94 2.06-2.06.94zm10 10l.94 2.06.94-2.06 2.06-.94-2.06-.94-.94-2.06-.94 2.06-2.06.94z\"/><path d=\"M17.41 7.96l-1.37-1.37c-.4-.4-.92-.59-1.43-.59-.52 0-1.04.2-1.43.59L10.3 9.45l-7.72 7.72c-.78.78-.78 2.05 0 2.83L4 21.41c.39.39.9.59 1.41.59.51 0 1.02-.2 1.41-.59l7.78-7.78 2.81-2.81c.8-.78.8-2.07 0-2.86zM5.41 20L4 18.59l7.72-7.72 1.47 1.35L5.41 20z\"/>\n",
              "  </svg>\n",
              "      </button>\n",
              "      \n",
              "  <style>\n",
              "    .colab-df-container {\n",
              "      display:flex;\n",
              "      flex-wrap:wrap;\n",
              "      gap: 12px;\n",
              "    }\n",
              "\n",
              "    .colab-df-convert {\n",
              "      background-color: #E8F0FE;\n",
              "      border: none;\n",
              "      border-radius: 50%;\n",
              "      cursor: pointer;\n",
              "      display: none;\n",
              "      fill: #1967D2;\n",
              "      height: 32px;\n",
              "      padding: 0 0 0 0;\n",
              "      width: 32px;\n",
              "    }\n",
              "\n",
              "    .colab-df-convert:hover {\n",
              "      background-color: #E2EBFA;\n",
              "      box-shadow: 0px 1px 2px rgba(60, 64, 67, 0.3), 0px 1px 3px 1px rgba(60, 64, 67, 0.15);\n",
              "      fill: #174EA6;\n",
              "    }\n",
              "\n",
              "    [theme=dark] .colab-df-convert {\n",
              "      background-color: #3B4455;\n",
              "      fill: #D2E3FC;\n",
              "    }\n",
              "\n",
              "    [theme=dark] .colab-df-convert:hover {\n",
              "      background-color: #434B5C;\n",
              "      box-shadow: 0px 1px 3px 1px rgba(0, 0, 0, 0.15);\n",
              "      filter: drop-shadow(0px 1px 2px rgba(0, 0, 0, 0.3));\n",
              "      fill: #FFFFFF;\n",
              "    }\n",
              "  </style>\n",
              "\n",
              "      <script>\n",
              "        const buttonEl =\n",
              "          document.querySelector('#df-93e85825-3e12-416c-9547-67647bf072dc button.colab-df-convert');\n",
              "        buttonEl.style.display =\n",
              "          google.colab.kernel.accessAllowed ? 'block' : 'none';\n",
              "\n",
              "        async function convertToInteractive(key) {\n",
              "          const element = document.querySelector('#df-93e85825-3e12-416c-9547-67647bf072dc');\n",
              "          const dataTable =\n",
              "            await google.colab.kernel.invokeFunction('convertToInteractive',\n",
              "                                                     [key], {});\n",
              "          if (!dataTable) return;\n",
              "\n",
              "          const docLinkHtml = 'Like what you see? Visit the ' +\n",
              "            '<a target=\"_blank\" href=https://colab.research.google.com/notebooks/data_table.ipynb>data table notebook</a>'\n",
              "            + ' to learn more about interactive tables.';\n",
              "          element.innerHTML = '';\n",
              "          dataTable['output_type'] = 'display_data';\n",
              "          await google.colab.output.renderOutput(dataTable, element);\n",
              "          const docLink = document.createElement('div');\n",
              "          docLink.innerHTML = docLinkHtml;\n",
              "          element.appendChild(docLink);\n",
              "        }\n",
              "      </script>\n",
              "    </div>\n",
              "  </div>\n",
              "  "
            ]
          },
          "metadata": {},
          "execution_count": 184
        }
      ]
    },
    {
      "cell_type": "markdown",
      "source": [
        "## Exact/Approximate Inference( Without Evidence)"
      ],
      "metadata": {
        "id": "bR9jdIz1X04m"
      }
    },
    {
      "cell_type": "code",
      "source": [
        "approximate_inferrence = ApproxInference(risk_of_dementia_model)"
      ],
      "metadata": {
        "id": "aIbP8USIX3D1"
      },
      "execution_count": 185,
      "outputs": []
    },
    {
      "cell_type": "markdown",
      "source": [
        "Exact Inference"
      ],
      "metadata": {
        "id": "mpVDHV4YYFYq"
      }
    },
    {
      "cell_type": "code",
      "source": [
        "print(variable_elimination_infer.query([dementia], show_progress=False))"
      ],
      "metadata": {
        "colab": {
          "base_uri": "https://localhost:8080/"
        },
        "id": "VMWNegkzYHeU",
        "outputId": "87a80f85-1a21-4897-f31a-a7fd4ec4c593"
      },
      "execution_count": 186,
      "outputs": [
        {
          "output_type": "stream",
          "name": "stdout",
          "text": [
            "+---------------+-----------------+\n",
            "| Dementia      |   phi(Dementia) |\n",
            "+===============+=================+\n",
            "| Dementia(YES) |          0.8184 |\n",
            "+---------------+-----------------+\n",
            "| Dementia(NO)  |          0.1816 |\n",
            "+---------------+-----------------+\n"
          ]
        }
      ]
    },
    {
      "cell_type": "markdown",
      "source": [
        "Approximate inferrence using sampling methods:"
      ],
      "metadata": {
        "id": "2slD5TQRYnM6"
      }
    },
    {
      "cell_type": "code",
      "source": [
        "list_of_samples_without_evidence = [\n",
        "    gibbs_sampling_df,\n",
        "    forward_sampling_df\n",
        "]\n",
        "for samples in list_of_samples_without_evidence:\n",
        "    print(approximate_inferrence.get_distribution(samples=samples, variables=[dementia]))\n",
        "    print()"
      ],
      "metadata": {
        "colab": {
          "base_uri": "https://localhost:8080/"
        },
        "id": "V0bLNWMEYoOm",
        "outputId": "89e7e370-d822-4072-d266-4a1949b3b4ba"
      },
      "execution_count": 187,
      "outputs": [
        {
          "output_type": "stream",
          "name": "stdout",
          "text": [
            "+-------------+-----------------+\n",
            "| Dementia    |   phi(Dementia) |\n",
            "+=============+=================+\n",
            "| Dementia(0) |          0.8188 |\n",
            "+-------------+-----------------+\n",
            "| Dementia(1) |          0.1812 |\n",
            "+-------------+-----------------+\n",
            "\n",
            "+---------------+-----------------+\n",
            "| Dementia      |   phi(Dementia) |\n",
            "+===============+=================+\n",
            "| Dementia(NO)  |          0.1825 |\n",
            "+---------------+-----------------+\n",
            "| Dementia(YES) |          0.8175 |\n",
            "+---------------+-----------------+\n",
            "\n"
          ]
        }
      ]
    },
    {
      "cell_type": "markdown",
      "source": [
        "## Exact/Approximate Inference( With Evidence)"
      ],
      "metadata": {
        "id": "I5UJpJ0_Y3Cd"
      }
    },
    {
      "cell_type": "markdown",
      "source": [
        "Exact Inference"
      ],
      "metadata": {
        "id": "GxQSSzy6ZJ5v"
      }
    },
    {
      "cell_type": "code",
      "source": [
        "print(variable_elimination_infer.query([dementia], evidence=evidence_dict, show_progress=False))"
      ],
      "metadata": {
        "colab": {
          "base_uri": "https://localhost:8080/"
        },
        "id": "nzFmNLNOZC-9",
        "outputId": "55e2eb83-8f89-43a3-c551-ddd1ce4e76f3"
      },
      "execution_count": 188,
      "outputs": [
        {
          "output_type": "stream",
          "name": "stdout",
          "text": [
            "+---------------+-----------------+\n",
            "| Dementia      |   phi(Dementia) |\n",
            "+===============+=================+\n",
            "| Dementia(YES) |          0.8500 |\n",
            "+---------------+-----------------+\n",
            "| Dementia(NO)  |          0.1500 |\n",
            "+---------------+-----------------+\n"
          ]
        }
      ]
    },
    {
      "cell_type": "markdown",
      "source": [
        "Approximate inferrence using sampling methods:"
      ],
      "metadata": {
        "id": "8yF9VzWaZ3R0"
      }
    },
    {
      "cell_type": "code",
      "source": [
        "list_of_samples_with_evidence = [\n",
        "    likelihood_weighted_sampling_df,\n",
        "    rejection_sampling_df\n",
        "]\n",
        "for samples in list_of_samples_with_evidence:\n",
        "    print(approximate_inferrence.get_distribution(samples=samples, variables=[dementia]))\n",
        "    print()"
      ],
      "metadata": {
        "colab": {
          "base_uri": "https://localhost:8080/"
        },
        "id": "GaREeTOlaCgM",
        "outputId": "ccf504b4-be5c-4519-f76e-1e33e1dda446"
      },
      "execution_count": 189,
      "outputs": [
        {
          "output_type": "stream",
          "name": "stdout",
          "text": [
            "+---------------+-----------------+\n",
            "| Dementia      |   phi(Dementia) |\n",
            "+===============+=================+\n",
            "| Dementia(NO)  |          0.1492 |\n",
            "+---------------+-----------------+\n",
            "| Dementia(YES) |          0.8508 |\n",
            "+---------------+-----------------+\n",
            "\n",
            "+---------------+-----------------+\n",
            "| Dementia      |   phi(Dementia) |\n",
            "+===============+=================+\n",
            "| Dementia(NO)  |          0.1440 |\n",
            "+---------------+-----------------+\n",
            "| Dementia(YES) |          0.8560 |\n",
            "+---------------+-----------------+\n",
            "\n"
          ]
        }
      ]
    },
    {
      "cell_type": "markdown",
      "source": [
        "THANK YOU!"
      ],
      "metadata": {
        "id": "5A8IRtjDabRx"
      }
    }
  ]
}